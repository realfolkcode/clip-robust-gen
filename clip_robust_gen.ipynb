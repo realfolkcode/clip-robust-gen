{
  "nbformat": 4,
  "nbformat_minor": 0,
  "metadata": {
    "colab": {
      "provenance": [],
      "gpuType": "T4",
      "toc_visible": true,
      "include_colab_link": true
    },
    "kernelspec": {
      "name": "python3",
      "display_name": "Python 3"
    },
    "language_info": {
      "name": "python"
    },
    "accelerator": "GPU",
    "widgets": {
      "application/vnd.jupyter.widget-state+json": {
        "58ac7fbac2d046d78428fbd0518c8a30": {
          "model_module": "@jupyter-widgets/controls",
          "model_name": "HBoxModel",
          "model_module_version": "1.5.0",
          "state": {
            "_dom_classes": [],
            "_model_module": "@jupyter-widgets/controls",
            "_model_module_version": "1.5.0",
            "_model_name": "HBoxModel",
            "_view_count": null,
            "_view_module": "@jupyter-widgets/controls",
            "_view_module_version": "1.5.0",
            "_view_name": "HBoxView",
            "box_style": "",
            "children": [
              "IPY_MODEL_2a66435292744d75979da0be3a928d1f",
              "IPY_MODEL_06bfcb7542cc458999a95fc9d7786e7e",
              "IPY_MODEL_d48d5351582d4f7bbe70fca313682b48"
            ],
            "layout": "IPY_MODEL_95706785fd254a019058f4511c04bcef"
          }
        },
        "2a66435292744d75979da0be3a928d1f": {
          "model_module": "@jupyter-widgets/controls",
          "model_name": "HTMLModel",
          "model_module_version": "1.5.0",
          "state": {
            "_dom_classes": [],
            "_model_module": "@jupyter-widgets/controls",
            "_model_module_version": "1.5.0",
            "_model_name": "HTMLModel",
            "_view_count": null,
            "_view_module": "@jupyter-widgets/controls",
            "_view_module_version": "1.5.0",
            "_view_name": "HTMLView",
            "description": "",
            "description_tooltip": null,
            "layout": "IPY_MODEL_7d28d52012f940839d815f7c98359240",
            "placeholder": "​",
            "style": "IPY_MODEL_31f9497daca149bf8d4c988417d8dcb9",
            "value": "open_clip_pytorch_model.bin: 100%"
          }
        },
        "06bfcb7542cc458999a95fc9d7786e7e": {
          "model_module": "@jupyter-widgets/controls",
          "model_name": "FloatProgressModel",
          "model_module_version": "1.5.0",
          "state": {
            "_dom_classes": [],
            "_model_module": "@jupyter-widgets/controls",
            "_model_module_version": "1.5.0",
            "_model_name": "FloatProgressModel",
            "_view_count": null,
            "_view_module": "@jupyter-widgets/controls",
            "_view_module_version": "1.5.0",
            "_view_name": "ProgressView",
            "bar_style": "success",
            "description": "",
            "description_tooltip": null,
            "layout": "IPY_MODEL_40ba03dd25ea48a4aef0141f68a4bde4",
            "max": 1710635461,
            "min": 0,
            "orientation": "horizontal",
            "style": "IPY_MODEL_3d14d569afa9426491dd0edf073259fd",
            "value": 1710635461
          }
        },
        "d48d5351582d4f7bbe70fca313682b48": {
          "model_module": "@jupyter-widgets/controls",
          "model_name": "HTMLModel",
          "model_module_version": "1.5.0",
          "state": {
            "_dom_classes": [],
            "_model_module": "@jupyter-widgets/controls",
            "_model_module_version": "1.5.0",
            "_model_name": "HTMLModel",
            "_view_count": null,
            "_view_module": "@jupyter-widgets/controls",
            "_view_module_version": "1.5.0",
            "_view_name": "HTMLView",
            "description": "",
            "description_tooltip": null,
            "layout": "IPY_MODEL_c6ece5bc272241f4a03f0617d5d148c5",
            "placeholder": "​",
            "style": "IPY_MODEL_57828a67a1824251841f90752d6ffb08",
            "value": " 1.71G/1.71G [00:19&lt;00:00, 78.9MB/s]"
          }
        },
        "95706785fd254a019058f4511c04bcef": {
          "model_module": "@jupyter-widgets/base",
          "model_name": "LayoutModel",
          "model_module_version": "1.2.0",
          "state": {
            "_model_module": "@jupyter-widgets/base",
            "_model_module_version": "1.2.0",
            "_model_name": "LayoutModel",
            "_view_count": null,
            "_view_module": "@jupyter-widgets/base",
            "_view_module_version": "1.2.0",
            "_view_name": "LayoutView",
            "align_content": null,
            "align_items": null,
            "align_self": null,
            "border": null,
            "bottom": null,
            "display": null,
            "flex": null,
            "flex_flow": null,
            "grid_area": null,
            "grid_auto_columns": null,
            "grid_auto_flow": null,
            "grid_auto_rows": null,
            "grid_column": null,
            "grid_gap": null,
            "grid_row": null,
            "grid_template_areas": null,
            "grid_template_columns": null,
            "grid_template_rows": null,
            "height": null,
            "justify_content": null,
            "justify_items": null,
            "left": null,
            "margin": null,
            "max_height": null,
            "max_width": null,
            "min_height": null,
            "min_width": null,
            "object_fit": null,
            "object_position": null,
            "order": null,
            "overflow": null,
            "overflow_x": null,
            "overflow_y": null,
            "padding": null,
            "right": null,
            "top": null,
            "visibility": null,
            "width": null
          }
        },
        "7d28d52012f940839d815f7c98359240": {
          "model_module": "@jupyter-widgets/base",
          "model_name": "LayoutModel",
          "model_module_version": "1.2.0",
          "state": {
            "_model_module": "@jupyter-widgets/base",
            "_model_module_version": "1.2.0",
            "_model_name": "LayoutModel",
            "_view_count": null,
            "_view_module": "@jupyter-widgets/base",
            "_view_module_version": "1.2.0",
            "_view_name": "LayoutView",
            "align_content": null,
            "align_items": null,
            "align_self": null,
            "border": null,
            "bottom": null,
            "display": null,
            "flex": null,
            "flex_flow": null,
            "grid_area": null,
            "grid_auto_columns": null,
            "grid_auto_flow": null,
            "grid_auto_rows": null,
            "grid_column": null,
            "grid_gap": null,
            "grid_row": null,
            "grid_template_areas": null,
            "grid_template_columns": null,
            "grid_template_rows": null,
            "height": null,
            "justify_content": null,
            "justify_items": null,
            "left": null,
            "margin": null,
            "max_height": null,
            "max_width": null,
            "min_height": null,
            "min_width": null,
            "object_fit": null,
            "object_position": null,
            "order": null,
            "overflow": null,
            "overflow_x": null,
            "overflow_y": null,
            "padding": null,
            "right": null,
            "top": null,
            "visibility": null,
            "width": null
          }
        },
        "31f9497daca149bf8d4c988417d8dcb9": {
          "model_module": "@jupyter-widgets/controls",
          "model_name": "DescriptionStyleModel",
          "model_module_version": "1.5.0",
          "state": {
            "_model_module": "@jupyter-widgets/controls",
            "_model_module_version": "1.5.0",
            "_model_name": "DescriptionStyleModel",
            "_view_count": null,
            "_view_module": "@jupyter-widgets/base",
            "_view_module_version": "1.2.0",
            "_view_name": "StyleView",
            "description_width": ""
          }
        },
        "40ba03dd25ea48a4aef0141f68a4bde4": {
          "model_module": "@jupyter-widgets/base",
          "model_name": "LayoutModel",
          "model_module_version": "1.2.0",
          "state": {
            "_model_module": "@jupyter-widgets/base",
            "_model_module_version": "1.2.0",
            "_model_name": "LayoutModel",
            "_view_count": null,
            "_view_module": "@jupyter-widgets/base",
            "_view_module_version": "1.2.0",
            "_view_name": "LayoutView",
            "align_content": null,
            "align_items": null,
            "align_self": null,
            "border": null,
            "bottom": null,
            "display": null,
            "flex": null,
            "flex_flow": null,
            "grid_area": null,
            "grid_auto_columns": null,
            "grid_auto_flow": null,
            "grid_auto_rows": null,
            "grid_column": null,
            "grid_gap": null,
            "grid_row": null,
            "grid_template_areas": null,
            "grid_template_columns": null,
            "grid_template_rows": null,
            "height": null,
            "justify_content": null,
            "justify_items": null,
            "left": null,
            "margin": null,
            "max_height": null,
            "max_width": null,
            "min_height": null,
            "min_width": null,
            "object_fit": null,
            "object_position": null,
            "order": null,
            "overflow": null,
            "overflow_x": null,
            "overflow_y": null,
            "padding": null,
            "right": null,
            "top": null,
            "visibility": null,
            "width": null
          }
        },
        "3d14d569afa9426491dd0edf073259fd": {
          "model_module": "@jupyter-widgets/controls",
          "model_name": "ProgressStyleModel",
          "model_module_version": "1.5.0",
          "state": {
            "_model_module": "@jupyter-widgets/controls",
            "_model_module_version": "1.5.0",
            "_model_name": "ProgressStyleModel",
            "_view_count": null,
            "_view_module": "@jupyter-widgets/base",
            "_view_module_version": "1.2.0",
            "_view_name": "StyleView",
            "bar_color": null,
            "description_width": ""
          }
        },
        "c6ece5bc272241f4a03f0617d5d148c5": {
          "model_module": "@jupyter-widgets/base",
          "model_name": "LayoutModel",
          "model_module_version": "1.2.0",
          "state": {
            "_model_module": "@jupyter-widgets/base",
            "_model_module_version": "1.2.0",
            "_model_name": "LayoutModel",
            "_view_count": null,
            "_view_module": "@jupyter-widgets/base",
            "_view_module_version": "1.2.0",
            "_view_name": "LayoutView",
            "align_content": null,
            "align_items": null,
            "align_self": null,
            "border": null,
            "bottom": null,
            "display": null,
            "flex": null,
            "flex_flow": null,
            "grid_area": null,
            "grid_auto_columns": null,
            "grid_auto_flow": null,
            "grid_auto_rows": null,
            "grid_column": null,
            "grid_gap": null,
            "grid_row": null,
            "grid_template_areas": null,
            "grid_template_columns": null,
            "grid_template_rows": null,
            "height": null,
            "justify_content": null,
            "justify_items": null,
            "left": null,
            "margin": null,
            "max_height": null,
            "max_width": null,
            "min_height": null,
            "min_width": null,
            "object_fit": null,
            "object_position": null,
            "order": null,
            "overflow": null,
            "overflow_x": null,
            "overflow_y": null,
            "padding": null,
            "right": null,
            "top": null,
            "visibility": null,
            "width": null
          }
        },
        "57828a67a1824251841f90752d6ffb08": {
          "model_module": "@jupyter-widgets/controls",
          "model_name": "DescriptionStyleModel",
          "model_module_version": "1.5.0",
          "state": {
            "_model_module": "@jupyter-widgets/controls",
            "_model_module_version": "1.5.0",
            "_model_name": "DescriptionStyleModel",
            "_view_count": null,
            "_view_module": "@jupyter-widgets/base",
            "_view_module_version": "1.2.0",
            "_view_name": "StyleView",
            "description_width": ""
          }
        },
        "0d9775f51aac4d94b0383cc1f11d23bf": {
          "model_module": "@jupyter-widgets/controls",
          "model_name": "HBoxModel",
          "model_module_version": "1.5.0",
          "state": {
            "_dom_classes": [],
            "_model_module": "@jupyter-widgets/controls",
            "_model_module_version": "1.5.0",
            "_model_name": "HBoxModel",
            "_view_count": null,
            "_view_module": "@jupyter-widgets/controls",
            "_view_module_version": "1.5.0",
            "_view_name": "HBoxView",
            "box_style": "",
            "children": [
              "IPY_MODEL_1be0cbe801074cf9a29740b9aa3ac34c",
              "IPY_MODEL_ebb947eb538e4c1886b2847ef64f866c",
              "IPY_MODEL_e8034043ba184857866544e051558733"
            ],
            "layout": "IPY_MODEL_d322d64b33bf43e3a40296168d217cc5"
          }
        },
        "1be0cbe801074cf9a29740b9aa3ac34c": {
          "model_module": "@jupyter-widgets/controls",
          "model_name": "HTMLModel",
          "model_module_version": "1.5.0",
          "state": {
            "_dom_classes": [],
            "_model_module": "@jupyter-widgets/controls",
            "_model_module_version": "1.5.0",
            "_model_name": "HTMLModel",
            "_view_count": null,
            "_view_module": "@jupyter-widgets/controls",
            "_view_module_version": "1.5.0",
            "_view_name": "HTMLView",
            "description": "",
            "description_tooltip": null,
            "layout": "IPY_MODEL_d868cf3e0d194c9aa8e24f05372c8d90",
            "placeholder": "​",
            "style": "IPY_MODEL_694cad4c2c4145e68e08eff67146f7f7",
            "value": "open_clip_config.json: 100%"
          }
        },
        "ebb947eb538e4c1886b2847ef64f866c": {
          "model_module": "@jupyter-widgets/controls",
          "model_name": "FloatProgressModel",
          "model_module_version": "1.5.0",
          "state": {
            "_dom_classes": [],
            "_model_module": "@jupyter-widgets/controls",
            "_model_module_version": "1.5.0",
            "_model_name": "FloatProgressModel",
            "_view_count": null,
            "_view_module": "@jupyter-widgets/controls",
            "_view_module_version": "1.5.0",
            "_view_name": "ProgressView",
            "bar_style": "success",
            "description": "",
            "description_tooltip": null,
            "layout": "IPY_MODEL_f6305c6909a54fe5bbe95a0e1b40a6c6",
            "max": 635,
            "min": 0,
            "orientation": "horizontal",
            "style": "IPY_MODEL_7be4cf51812e459d88d1b7059a1fe5aa",
            "value": 635
          }
        },
        "e8034043ba184857866544e051558733": {
          "model_module": "@jupyter-widgets/controls",
          "model_name": "HTMLModel",
          "model_module_version": "1.5.0",
          "state": {
            "_dom_classes": [],
            "_model_module": "@jupyter-widgets/controls",
            "_model_module_version": "1.5.0",
            "_model_name": "HTMLModel",
            "_view_count": null,
            "_view_module": "@jupyter-widgets/controls",
            "_view_module_version": "1.5.0",
            "_view_name": "HTMLView",
            "description": "",
            "description_tooltip": null,
            "layout": "IPY_MODEL_f7d574d3eda34399a77a42eea7a6aa59",
            "placeholder": "​",
            "style": "IPY_MODEL_bb809c31b5034c48be2f0ffd6a00f8b6",
            "value": " 635/635 [00:00&lt;00:00, 19.0kB/s]"
          }
        },
        "d322d64b33bf43e3a40296168d217cc5": {
          "model_module": "@jupyter-widgets/base",
          "model_name": "LayoutModel",
          "model_module_version": "1.2.0",
          "state": {
            "_model_module": "@jupyter-widgets/base",
            "_model_module_version": "1.2.0",
            "_model_name": "LayoutModel",
            "_view_count": null,
            "_view_module": "@jupyter-widgets/base",
            "_view_module_version": "1.2.0",
            "_view_name": "LayoutView",
            "align_content": null,
            "align_items": null,
            "align_self": null,
            "border": null,
            "bottom": null,
            "display": null,
            "flex": null,
            "flex_flow": null,
            "grid_area": null,
            "grid_auto_columns": null,
            "grid_auto_flow": null,
            "grid_auto_rows": null,
            "grid_column": null,
            "grid_gap": null,
            "grid_row": null,
            "grid_template_areas": null,
            "grid_template_columns": null,
            "grid_template_rows": null,
            "height": null,
            "justify_content": null,
            "justify_items": null,
            "left": null,
            "margin": null,
            "max_height": null,
            "max_width": null,
            "min_height": null,
            "min_width": null,
            "object_fit": null,
            "object_position": null,
            "order": null,
            "overflow": null,
            "overflow_x": null,
            "overflow_y": null,
            "padding": null,
            "right": null,
            "top": null,
            "visibility": null,
            "width": null
          }
        },
        "d868cf3e0d194c9aa8e24f05372c8d90": {
          "model_module": "@jupyter-widgets/base",
          "model_name": "LayoutModel",
          "model_module_version": "1.2.0",
          "state": {
            "_model_module": "@jupyter-widgets/base",
            "_model_module_version": "1.2.0",
            "_model_name": "LayoutModel",
            "_view_count": null,
            "_view_module": "@jupyter-widgets/base",
            "_view_module_version": "1.2.0",
            "_view_name": "LayoutView",
            "align_content": null,
            "align_items": null,
            "align_self": null,
            "border": null,
            "bottom": null,
            "display": null,
            "flex": null,
            "flex_flow": null,
            "grid_area": null,
            "grid_auto_columns": null,
            "grid_auto_flow": null,
            "grid_auto_rows": null,
            "grid_column": null,
            "grid_gap": null,
            "grid_row": null,
            "grid_template_areas": null,
            "grid_template_columns": null,
            "grid_template_rows": null,
            "height": null,
            "justify_content": null,
            "justify_items": null,
            "left": null,
            "margin": null,
            "max_height": null,
            "max_width": null,
            "min_height": null,
            "min_width": null,
            "object_fit": null,
            "object_position": null,
            "order": null,
            "overflow": null,
            "overflow_x": null,
            "overflow_y": null,
            "padding": null,
            "right": null,
            "top": null,
            "visibility": null,
            "width": null
          }
        },
        "694cad4c2c4145e68e08eff67146f7f7": {
          "model_module": "@jupyter-widgets/controls",
          "model_name": "DescriptionStyleModel",
          "model_module_version": "1.5.0",
          "state": {
            "_model_module": "@jupyter-widgets/controls",
            "_model_module_version": "1.5.0",
            "_model_name": "DescriptionStyleModel",
            "_view_count": null,
            "_view_module": "@jupyter-widgets/base",
            "_view_module_version": "1.2.0",
            "_view_name": "StyleView",
            "description_width": ""
          }
        },
        "f6305c6909a54fe5bbe95a0e1b40a6c6": {
          "model_module": "@jupyter-widgets/base",
          "model_name": "LayoutModel",
          "model_module_version": "1.2.0",
          "state": {
            "_model_module": "@jupyter-widgets/base",
            "_model_module_version": "1.2.0",
            "_model_name": "LayoutModel",
            "_view_count": null,
            "_view_module": "@jupyter-widgets/base",
            "_view_module_version": "1.2.0",
            "_view_name": "LayoutView",
            "align_content": null,
            "align_items": null,
            "align_self": null,
            "border": null,
            "bottom": null,
            "display": null,
            "flex": null,
            "flex_flow": null,
            "grid_area": null,
            "grid_auto_columns": null,
            "grid_auto_flow": null,
            "grid_auto_rows": null,
            "grid_column": null,
            "grid_gap": null,
            "grid_row": null,
            "grid_template_areas": null,
            "grid_template_columns": null,
            "grid_template_rows": null,
            "height": null,
            "justify_content": null,
            "justify_items": null,
            "left": null,
            "margin": null,
            "max_height": null,
            "max_width": null,
            "min_height": null,
            "min_width": null,
            "object_fit": null,
            "object_position": null,
            "order": null,
            "overflow": null,
            "overflow_x": null,
            "overflow_y": null,
            "padding": null,
            "right": null,
            "top": null,
            "visibility": null,
            "width": null
          }
        },
        "7be4cf51812e459d88d1b7059a1fe5aa": {
          "model_module": "@jupyter-widgets/controls",
          "model_name": "ProgressStyleModel",
          "model_module_version": "1.5.0",
          "state": {
            "_model_module": "@jupyter-widgets/controls",
            "_model_module_version": "1.5.0",
            "_model_name": "ProgressStyleModel",
            "_view_count": null,
            "_view_module": "@jupyter-widgets/base",
            "_view_module_version": "1.2.0",
            "_view_name": "StyleView",
            "bar_color": null,
            "description_width": ""
          }
        },
        "f7d574d3eda34399a77a42eea7a6aa59": {
          "model_module": "@jupyter-widgets/base",
          "model_name": "LayoutModel",
          "model_module_version": "1.2.0",
          "state": {
            "_model_module": "@jupyter-widgets/base",
            "_model_module_version": "1.2.0",
            "_model_name": "LayoutModel",
            "_view_count": null,
            "_view_module": "@jupyter-widgets/base",
            "_view_module_version": "1.2.0",
            "_view_name": "LayoutView",
            "align_content": null,
            "align_items": null,
            "align_self": null,
            "border": null,
            "bottom": null,
            "display": null,
            "flex": null,
            "flex_flow": null,
            "grid_area": null,
            "grid_auto_columns": null,
            "grid_auto_flow": null,
            "grid_auto_rows": null,
            "grid_column": null,
            "grid_gap": null,
            "grid_row": null,
            "grid_template_areas": null,
            "grid_template_columns": null,
            "grid_template_rows": null,
            "height": null,
            "justify_content": null,
            "justify_items": null,
            "left": null,
            "margin": null,
            "max_height": null,
            "max_width": null,
            "min_height": null,
            "min_width": null,
            "object_fit": null,
            "object_position": null,
            "order": null,
            "overflow": null,
            "overflow_x": null,
            "overflow_y": null,
            "padding": null,
            "right": null,
            "top": null,
            "visibility": null,
            "width": null
          }
        },
        "bb809c31b5034c48be2f0ffd6a00f8b6": {
          "model_module": "@jupyter-widgets/controls",
          "model_name": "DescriptionStyleModel",
          "model_module_version": "1.5.0",
          "state": {
            "_model_module": "@jupyter-widgets/controls",
            "_model_module_version": "1.5.0",
            "_model_name": "DescriptionStyleModel",
            "_view_count": null,
            "_view_module": "@jupyter-widgets/base",
            "_view_module_version": "1.2.0",
            "_view_name": "StyleView",
            "description_width": ""
          }
        }
      }
    }
  },
  "cells": [
    {
      "cell_type": "markdown",
      "metadata": {
        "id": "view-in-github",
        "colab_type": "text"
      },
      "source": [
        "<a href=\"https://colab.research.google.com/github/realfolkcode/clip-robust-gen/blob/main/clip_robust_gen.ipynb\" target=\"_parent\"><img src=\"https://colab.research.google.com/assets/colab-badge.svg\" alt=\"Open In Colab\"/></a>"
      ]
    },
    {
      "cell_type": "markdown",
      "source": [
        "# Robust CLIP image generation\n",
        "\n",
        "The notebook author: [realfolkcode](https://github.com/realfolkcode)\n",
        "\n",
        "In this minimalist notebook, we generate images from a given text prompt by traversing through the gradients of [Robust CLIP (ICML 2024, Schlarman et al.)](https://arxiv.org/pdf/2402.12336) **without a generative model**. Generating images from the gradients of a classifier is by no means a novel idea (see, for example, [this paper](https://proceedings.neurips.cc/paper_files/paper/2019/file/6f2268bd1d3d3ebaabb04d6b5d099425-Paper.pdf)). Several approaches have used CLIP to synthesize/search for an image that is similar to a prompt (e.g., [CLIPig](https://github.com/defgsus/clipig)). However, its gradients are not suitable for generation since CLIP's image encoder is sensitive to small imperceptible perturbations and adversarial attacks. As such, a naive gradient descent may result in semantically poor images that have high CLIP similarity scores. To alleviate this issue, CLIPig augments samples with noise, random rotations, etc. Contrary to this, robust classifiers have *perceptually-aligned gradients* and perform better at generative tasks, as shown by [Srinivas et al.](https://arxiv.org/pdf/2305.19101) This motivated me to check how well Robust CLIP would work in **straightforward** settings (i.e., without the need to introduce tricky augmentations)."
      ],
      "metadata": {
        "id": "womSIt8Rk-_3"
      }
    },
    {
      "cell_type": "markdown",
      "source": [
        "## Import and install"
      ],
      "metadata": {
        "id": "N9oxTnS9RPXZ"
      }
    },
    {
      "cell_type": "code",
      "source": [
        "!pip install open_clip_torch"
      ],
      "metadata": {
        "id": "aoyqQNvaRU27"
      },
      "execution_count": null,
      "outputs": []
    },
    {
      "cell_type": "code",
      "source": [
        "import torch\n",
        "import torch.nn.functional as F\n",
        "import torchvision.transforms.v2 as v2\n",
        "from PIL import Image, ImageDraw\n",
        "import open_clip\n",
        "import numpy as np\n",
        "from tqdm import tqdm"
      ],
      "metadata": {
        "id": "AKnvLaSsRQLT"
      },
      "execution_count": null,
      "outputs": []
    },
    {
      "cell_type": "code",
      "source": [
        "device = torch.device('cuda' if torch.cuda.is_available() else 'cpu')"
      ],
      "metadata": {
        "id": "ssrUK9-eRWwZ"
      },
      "execution_count": null,
      "outputs": []
    },
    {
      "cell_type": "markdown",
      "source": [
        "## Load model"
      ],
      "metadata": {
        "id": "Xp6DqYKoRXTz"
      }
    },
    {
      "cell_type": "code",
      "source": [
        "clip, _, processor = open_clip.create_model_and_transforms('hf-hub:chs20/fare2-clip')\n",
        "\n",
        "# Uncomment the line below if you want to try the original non-robust CLIP model\n",
        "#clip, _, processor = create_model_and_transforms('ViT-L-14', pretrained='openai')\n",
        "\n",
        "clip = clip.to(device)"
      ],
      "metadata": {
        "id": "29r2b2DBRYDE",
        "colab": {
          "base_uri": "https://localhost:8080/",
          "height": 205,
          "referenced_widgets": [
            "58ac7fbac2d046d78428fbd0518c8a30",
            "2a66435292744d75979da0be3a928d1f",
            "06bfcb7542cc458999a95fc9d7786e7e",
            "d48d5351582d4f7bbe70fca313682b48",
            "95706785fd254a019058f4511c04bcef",
            "7d28d52012f940839d815f7c98359240",
            "31f9497daca149bf8d4c988417d8dcb9",
            "40ba03dd25ea48a4aef0141f68a4bde4",
            "3d14d569afa9426491dd0edf073259fd",
            "c6ece5bc272241f4a03f0617d5d148c5",
            "57828a67a1824251841f90752d6ffb08",
            "0d9775f51aac4d94b0383cc1f11d23bf",
            "1be0cbe801074cf9a29740b9aa3ac34c",
            "ebb947eb538e4c1886b2847ef64f866c",
            "e8034043ba184857866544e051558733",
            "d322d64b33bf43e3a40296168d217cc5",
            "d868cf3e0d194c9aa8e24f05372c8d90",
            "694cad4c2c4145e68e08eff67146f7f7",
            "f6305c6909a54fe5bbe95a0e1b40a6c6",
            "7be4cf51812e459d88d1b7059a1fe5aa",
            "f7d574d3eda34399a77a42eea7a6aa59",
            "bb809c31b5034c48be2f0ffd6a00f8b6"
          ]
        },
        "outputId": "64cd3885-fd53-4ac7-979e-d69e4847049a"
      },
      "execution_count": null,
      "outputs": [
        {
          "output_type": "stream",
          "name": "stderr",
          "text": [
            "/usr/local/lib/python3.10/dist-packages/huggingface_hub/utils/_token.py:89: UserWarning: \n",
            "The secret `HF_TOKEN` does not exist in your Colab secrets.\n",
            "To authenticate with the Hugging Face Hub, create a token in your settings tab (https://huggingface.co/settings/tokens), set it as secret in your Google Colab and restart your session.\n",
            "You will be able to reuse this secret in all of your notebooks.\n",
            "Please note that authentication is recommended but still optional to access public models or datasets.\n",
            "  warnings.warn(\n"
          ]
        },
        {
          "output_type": "display_data",
          "data": {
            "text/plain": [
              "open_clip_pytorch_model.bin:   0%|          | 0.00/1.71G [00:00<?, ?B/s]"
            ],
            "application/vnd.jupyter.widget-view+json": {
              "version_major": 2,
              "version_minor": 0,
              "model_id": "58ac7fbac2d046d78428fbd0518c8a30"
            }
          },
          "metadata": {}
        },
        {
          "output_type": "display_data",
          "data": {
            "text/plain": [
              "open_clip_config.json:   0%|          | 0.00/635 [00:00<?, ?B/s]"
            ],
            "application/vnd.jupyter.widget-view+json": {
              "version_major": 2,
              "version_minor": 0,
              "model_id": "0d9775f51aac4d94b0383cc1f11d23bf"
            }
          },
          "metadata": {}
        }
      ]
    },
    {
      "cell_type": "code",
      "source": [
        "tokenizer = open_clip.get_tokenizer('ViT-B-32')"
      ],
      "metadata": {
        "id": "YeAnEuB4Rg6b"
      },
      "execution_count": null,
      "outputs": []
    },
    {
      "cell_type": "markdown",
      "source": [
        "## Utils"
      ],
      "metadata": {
        "id": "g-RiaIpabW52"
      }
    },
    {
      "cell_type": "code",
      "source": [
        "def loss_fn(x):\n",
        "    text = tokenizer(prompt).to(device)\n",
        "    image_features = clip.encode_image(x)\n",
        "    text_features = clip.encode_text(text)\n",
        "    loss = F.cosine_similarity(image_features, text_features)\n",
        "    return loss"
      ],
      "metadata": {
        "id": "O8qjlAvXbZcO"
      },
      "execution_count": null,
      "outputs": []
    },
    {
      "cell_type": "markdown",
      "source": [
        "Here, we define a schedule for the guidance strength. A schedule depends on the current iteration number as well as the overall number of steps. In my non-exhaustive experiments I found that a monotonously decaying cosine schedule works well. You can define your own schedule. Please, let me know if you get some interesting results."
      ],
      "metadata": {
        "id": "qej2k54RdBZI"
      }
    },
    {
      "cell_type": "code",
      "source": [
        "class CosineSchedule:\n",
        "    def __init__(self,\n",
        "                 num_steps: int,\n",
        "                 phase_coef: float = 0.9):\n",
        "        self.num_steps = num_steps\n",
        "        self.max_phase = phase_coef * np.pi / 2\n",
        "\n",
        "    def __call__(self, iter: int):\n",
        "        s = np.cos(iter / self.num_steps * self.max_phase)\n",
        "        return s"
      ],
      "metadata": {
        "id": "7W6WNDxvbbTD"
      },
      "execution_count": null,
      "outputs": []
    },
    {
      "cell_type": "markdown",
      "source": [
        "## Generate"
      ],
      "metadata": {
        "id": "lNMY5dDIRiZe"
      }
    },
    {
      "cell_type": "code",
      "source": [
        "# Specify your prompt\n",
        "\n",
        "#prompt = \"dark fantasy poster in the style of Dragon Age games, sharp photo, ultrarealistic\"\n",
        "#prompt = \"photo of a cat playing blues on a guitar, ultrarealistic, sharp\"\n",
        "prompt = \"Cheburashka in a sombrero stands on three turtles, ultrarealistic, sharp photo, high quality\""
      ],
      "metadata": {
        "id": "KFJSIA54Kqsu"
      },
      "execution_count": null,
      "outputs": []
    },
    {
      "cell_type": "markdown",
      "source": [
        "In the cell below, we define the following parameters:\n",
        "\n",
        "`img_size`: The size of a downsampled image. CLIP operates with images of the size of 224x224. However, the resulting images are too noisy in the original resolution. Synthesizing in a lower resolution results in smoother images. Before each step of gradient descent, we downsample the current image.\n",
        "\n",
        "`num_steps`: The number of gradient descent steps.\n",
        "\n",
        "`batch_size`: The number of images to produce."
      ],
      "metadata": {
        "id": "bbkZzLFmeAGq"
      }
    },
    {
      "cell_type": "code",
      "source": [
        "img_size = 112\n",
        "downsample = v2.Resize((img_size, img_size), antialias=True)\n",
        "upsample = v2.Resize((224, 224), antialias=True)\n",
        "\n",
        "num_steps = 100\n",
        "scheduler = CosineSchedule(num_steps=num_steps)\n",
        "batch_size = 2"
      ],
      "metadata": {
        "id": "YsVmy4d_SuiF"
      },
      "execution_count": null,
      "outputs": []
    },
    {
      "cell_type": "markdown",
      "source": [
        "Run the cell below to start generation.\n",
        "\n",
        "Under the hood, we first initialize an image with a Gaussian noise. Then, we run several steps of projected gradient descent (w.r.t. image) to maximize the similarity between the text and image features. The gradient is normalized and rescaled with the image size and guidance strength schedule. Next, the image is projected such that its pixel values lie in $[-1, 1]$."
      ],
      "metadata": {
        "id": "yLCSB2k2i4WJ"
      }
    },
    {
      "cell_type": "code",
      "source": [
        "# Initializing images with Gaussian noise.\n",
        "\n",
        "x = torch.randn(batch_size, 3, 8, 8).to(device)\n",
        "\n",
        "x[0, 0, :, :] *= 0.26862954\n",
        "x[0, 1, :, :] *= 0.26130258\n",
        "x[0, 2, :, :] *= 0.27577711\n",
        "\n",
        "x[0, 0, :, :] += 0.48145466\n",
        "x[0, 1, :, :] += 0.4578275\n",
        "x[0, 2, :, :] += 0.40821073\n",
        "\n",
        "x = x.requires_grad_()\n",
        "\n",
        "################################################\n",
        "\n",
        "verbose = 5\n",
        "\n",
        "for i in tqdm(range(num_steps)):\n",
        "    x = x.detach().requires_grad_()\n",
        "    x = upsample(x)\n",
        "    loss = loss_fn(x)\n",
        "    loss = list(loss)\n",
        "    if i % verbose == 0:\n",
        "        print([elem.item() for elem in loss])\n",
        "\n",
        "    grad = torch.autograd.grad(loss, x)\n",
        "    grad = torch.cat(grad)\n",
        "    grad = grad / torch.linalg.vector_norm(grad, dim=[1,2,3]).view(-1, 1, 1, 1)\n",
        "    s = scheduler(i)\n",
        "    x = x + img_size * s * grad\n",
        "    x = x.clamp(-1, 1)\n",
        "    x = downsample(x)"
      ],
      "metadata": {
        "colab": {
          "base_uri": "https://localhost:8080/"
        },
        "id": "vpC9APKNSOai",
        "outputId": "542d8f43-dffb-48e0-e738-47f5b3d70f9e"
      },
      "execution_count": null,
      "outputs": [
        {
          "output_type": "stream",
          "name": "stderr",
          "text": [
            "\r  0%|          | 0/100 [00:00<?, ?it/s]"
          ]
        },
        {
          "output_type": "stream",
          "name": "stdout",
          "text": [
            "[0.1296205222606659, 0.13831326365470886]\n"
          ]
        },
        {
          "output_type": "stream",
          "name": "stderr",
          "text": [
            "  6%|▌         | 6/100 [00:03<00:32,  2.92it/s]"
          ]
        },
        {
          "output_type": "stream",
          "name": "stdout",
          "text": [
            "[0.1968640685081482, 0.2802385091781616]\n"
          ]
        },
        {
          "output_type": "stream",
          "name": "stderr",
          "text": [
            " 11%|█         | 11/100 [00:04<00:22,  3.96it/s]"
          ]
        },
        {
          "output_type": "stream",
          "name": "stdout",
          "text": [
            "[0.3209848999977112, 0.32734036445617676]\n"
          ]
        },
        {
          "output_type": "stream",
          "name": "stderr",
          "text": [
            " 16%|█▌        | 16/100 [00:05<00:19,  4.37it/s]"
          ]
        },
        {
          "output_type": "stream",
          "name": "stdout",
          "text": [
            "[0.322876513004303, 0.3983842134475708]\n"
          ]
        },
        {
          "output_type": "stream",
          "name": "stderr",
          "text": [
            " 21%|██        | 21/100 [00:06<00:18,  4.34it/s]"
          ]
        },
        {
          "output_type": "stream",
          "name": "stdout",
          "text": [
            "[0.36962658166885376, 0.38401684165000916]\n"
          ]
        },
        {
          "output_type": "stream",
          "name": "stderr",
          "text": [
            " 26%|██▌       | 26/100 [00:08<00:17,  4.35it/s]"
          ]
        },
        {
          "output_type": "stream",
          "name": "stdout",
          "text": [
            "[0.39476126432418823, 0.386763334274292]\n"
          ]
        },
        {
          "output_type": "stream",
          "name": "stderr",
          "text": [
            " 31%|███       | 31/100 [00:09<00:15,  4.33it/s]"
          ]
        },
        {
          "output_type": "stream",
          "name": "stdout",
          "text": [
            "[0.42252618074417114, 0.40623101592063904]\n"
          ]
        },
        {
          "output_type": "stream",
          "name": "stderr",
          "text": [
            " 36%|███▌      | 36/100 [00:10<00:14,  4.28it/s]"
          ]
        },
        {
          "output_type": "stream",
          "name": "stdout",
          "text": [
            "[0.46251213550567627, 0.43698829412460327]\n"
          ]
        },
        {
          "output_type": "stream",
          "name": "stderr",
          "text": [
            " 41%|████      | 41/100 [00:11<00:13,  4.36it/s]"
          ]
        },
        {
          "output_type": "stream",
          "name": "stdout",
          "text": [
            "[0.4198944568634033, 0.43136632442474365]\n"
          ]
        },
        {
          "output_type": "stream",
          "name": "stderr",
          "text": [
            " 46%|████▌     | 46/100 [00:12<00:12,  4.35it/s]"
          ]
        },
        {
          "output_type": "stream",
          "name": "stdout",
          "text": [
            "[0.4721723198890686, 0.44587281346321106]\n"
          ]
        },
        {
          "output_type": "stream",
          "name": "stderr",
          "text": [
            " 51%|█████     | 51/100 [00:13<00:11,  4.35it/s]"
          ]
        },
        {
          "output_type": "stream",
          "name": "stdout",
          "text": [
            "[0.4417700171470642, 0.46664005517959595]\n"
          ]
        },
        {
          "output_type": "stream",
          "name": "stderr",
          "text": [
            " 56%|█████▌    | 56/100 [00:14<00:10,  4.34it/s]"
          ]
        },
        {
          "output_type": "stream",
          "name": "stdout",
          "text": [
            "[0.47358325123786926, 0.4654819965362549]\n"
          ]
        },
        {
          "output_type": "stream",
          "name": "stderr",
          "text": [
            " 61%|██████    | 61/100 [00:16<00:09,  4.29it/s]"
          ]
        },
        {
          "output_type": "stream",
          "name": "stdout",
          "text": [
            "[0.4549233913421631, 0.43044400215148926]\n"
          ]
        },
        {
          "output_type": "stream",
          "name": "stderr",
          "text": [
            " 66%|██████▌   | 66/100 [00:17<00:07,  4.33it/s]"
          ]
        },
        {
          "output_type": "stream",
          "name": "stdout",
          "text": [
            "[0.47416120767593384, 0.4265778064727783]\n"
          ]
        },
        {
          "output_type": "stream",
          "name": "stderr",
          "text": [
            " 71%|███████   | 71/100 [00:18<00:06,  4.32it/s]"
          ]
        },
        {
          "output_type": "stream",
          "name": "stdout",
          "text": [
            "[0.4733773469924927, 0.45525822043418884]\n"
          ]
        },
        {
          "output_type": "stream",
          "name": "stderr",
          "text": [
            " 76%|███████▌  | 76/100 [00:19<00:05,  4.32it/s]"
          ]
        },
        {
          "output_type": "stream",
          "name": "stdout",
          "text": [
            "[0.4348772466182709, 0.467159628868103]\n"
          ]
        },
        {
          "output_type": "stream",
          "name": "stderr",
          "text": [
            " 81%|████████  | 81/100 [00:20<00:04,  4.30it/s]"
          ]
        },
        {
          "output_type": "stream",
          "name": "stdout",
          "text": [
            "[0.4991908073425293, 0.46840089559555054]\n"
          ]
        },
        {
          "output_type": "stream",
          "name": "stderr",
          "text": [
            " 86%|████████▌ | 86/100 [00:21<00:03,  4.08it/s]"
          ]
        },
        {
          "output_type": "stream",
          "name": "stdout",
          "text": [
            "[0.4498293995857239, 0.47771793603897095]\n"
          ]
        },
        {
          "output_type": "stream",
          "name": "stderr",
          "text": [
            " 91%|█████████ | 91/100 [00:23<00:02,  4.34it/s]"
          ]
        },
        {
          "output_type": "stream",
          "name": "stdout",
          "text": [
            "[0.4790821671485901, 0.4930582046508789]\n"
          ]
        },
        {
          "output_type": "stream",
          "name": "stderr",
          "text": [
            " 96%|█████████▌| 96/100 [00:24<00:00,  4.28it/s]"
          ]
        },
        {
          "output_type": "stream",
          "name": "stdout",
          "text": [
            "[0.5051782727241516, 0.4646819233894348]\n"
          ]
        },
        {
          "output_type": "stream",
          "name": "stderr",
          "text": [
            "100%|██████████| 100/100 [00:25<00:00,  3.98it/s]\n"
          ]
        }
      ]
    },
    {
      "cell_type": "code",
      "source": [
        "# Upsample to the original resolution and convert to PIL images\n",
        "\n",
        "images = upsample(x).detach().cpu()\n",
        "images = (images / 2 + 0.5).clamp(0, 1)\n",
        "images = images.detach().cpu().permute(0, 2, 3, 1).numpy()\n",
        "images = (images * 255).round().astype('uint8')\n",
        "pil_images = [Image.fromarray(image) for image in images]"
      ],
      "metadata": {
        "id": "M-GS3d6fSj1I"
      },
      "execution_count": null,
      "outputs": []
    },
    {
      "cell_type": "code",
      "source": [
        "pil_images[0]"
      ],
      "metadata": {
        "colab": {
          "base_uri": "https://localhost:8080/",
          "height": 241
        },
        "id": "plBqvDKNS_kt",
        "outputId": "f9fa6bdd-e5ee-44d7-ead6-7bfdd203c6db"
      },
      "execution_count": null,
      "outputs": [
        {
          "output_type": "execute_result",
          "data": {
            "text/plain": [
              "<PIL.Image.Image image mode=RGB size=224x224>"
            ],
            "image/png": "[encoded data removed]"
          },
          "metadata": {},
          "execution_count": 13
        }
      ]
    },
    {
      "cell_type": "code",
      "source": [
        "pil_images[1]"
      ],
      "metadata": {
        "id": "4K7AQ5hVTAw3",
        "colab": {
          "base_uri": "https://localhost:8080/",
          "height": 241
        },
        "outputId": "21ed3ce6-134c-4bdd-a6df-0daeae6f3db8"
      },
      "execution_count": null,
      "outputs": [
        {
          "output_type": "execute_result",
          "data": {
            "text/plain": [
              "<PIL.Image.Image image mode=RGB size=224x224>"
            ],
            "image/png": "[encoded data removed]"
          },
          "metadata": {},
          "execution_count": 14
        }
      ]
    },
    {
      "cell_type": "code",
      "source": [],
      "metadata": {
        "id": "fCkRUIQ4TPPs"
      },
      "execution_count": null,
      "outputs": []
    }
  ]
}